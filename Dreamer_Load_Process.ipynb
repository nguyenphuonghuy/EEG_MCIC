{
  "nbformat": 4,
  "nbformat_minor": 0,
  "metadata": {
    "colab": {
      "provenance": [],
      "machine_shape": "hm",
      "gpuType": "T4"
    },
    "kernelspec": {
      "name": "python3",
      "display_name": "Python 3"
    },
    "language_info": {
      "name": "python"
    },
    "accelerator": "GPU"
  },
  "cells": [
    {
      "cell_type": "code",
      "source": [
        "import gc\n",
        "import os\n",
        "import numpy as np\n",
        "from scipy.io import loadmat\n",
        "\n",
        "# Đường dẫn tới file .mat\n",
        "mat_file_path = \"/content/drive/MyDrive/DREAMER DATA/DREAMER.mat\"\n",
        "# Đường dẫn tới thư mục lưu trữ dữ liệu đã xử lý\n",
        "processed_data_dir = \"/content/drive/MyDrive/DREAMER DATA/Process_Data\"\n",
        "\n",
        "# Tải dữ liệu .mat\n",
        "mat_data = loadmat(mat_file_path)\n",
        "dreamer_data = mat_data[\"DREAMER\"]\n",
        "\n",
        "# Giải nén dữ liệu Dreamer vào dictionary\n",
        "dreamer_dict = {n: dreamer_data[n][0, 0] for n in dreamer_data.dtype.names}\n",
        "\n",
        "# Lấy số lượng chủ thể và số lượng video\n",
        "num_subjects = dreamer_dict[\"noOfSubjects\"][0, 0]\n",
        "num_videos = dreamer_dict[\"noOfVideoSequences\"][0, 0]\n",
        "\n",
        "# Trích xuất dữ liệu EEG và các điểm số\n",
        "eeg_data = dreamer_dict[\"Data\"]\n",
        "\n",
        "# Tạo thư mục chính để lưu dữ liệu đã xử lý\n",
        "os.makedirs(processed_data_dir, exist_ok=True)\n",
        "\n",
        "# Xử lý dữ liệu cho mỗi chủ thể\n",
        "for subject in range(num_subjects):\n",
        "    subject_dir = f\"{processed_data_dir}/person{subject+1}\"\n",
        "    print(f\"Saving data for subject {subject+1}\")\n",
        "    os.makedirs(f\"{subject_dir}/eeg_samples\", exist_ok=True)\n",
        "    os.makedirs(f\"{subject_dir}/eeg_labels\", exist_ok=True)\n",
        "\n",
        "    eeg_signal = eeg_data[0, subject][\"EEG\"][0, 0][0, 0][\"stimuli\"]\n",
        "    valence = eeg_data[0, subject][\"ScoreValence\"][0, 0]\n",
        "    arousal = eeg_data[0, subject][\"ScoreArousal\"][0, 0]\n",
        "    dominance = eeg_data[0, subject][\"ScoreDominance\"][0, 0]\n",
        "\n",
        "    # Lưu dữ liệu EEG và các điểm số cho mỗi video\n",
        "    for video in range(num_videos):\n",
        "        eeg = eeg_signal[video, 0]\n",
        "        np.savetxt(f\"{subject_dir}/eeg_samples/eeg{video+1}.csv\", eeg, delimiter=\",\")\n",
        "\n",
        "    # Lưu các điểm số\n",
        "    np.savetxt(f\"{subject_dir}/eeg_labels/valence.csv\", valence, delimiter=\",\", fmt=\"%d\")\n",
        "    np.savetxt(f\"{subject_dir}/eeg_labels/arousal.csv\", arousal, delimiter=\",\", fmt=\"%d\")\n",
        "    np.savetxt(f\"{subject_dir}/eeg_labels/dominance.csv\", dominance, delimiter=\",\", fmt=\"%d\")\n",
        "\n",
        "    # Giải phóng bộ nhớ\n",
        "    gc.collect()\n"
      ],
      "metadata": {
        "colab": {
          "base_uri": "https://localhost:8080/"
        },
        "id": "nBWW5tCPmR_-",
        "outputId": "0a96dce3-9e1e-42f7-f854-ad9486ffa132"
      },
      "execution_count": null,
      "outputs": [
        {
          "output_type": "stream",
          "name": "stdout",
          "text": [
            "Saving data for subject 1\n",
            "Saving data for subject 2\n",
            "Saving data for subject 3\n",
            "Saving data for subject 4\n",
            "Saving data for subject 5\n",
            "Saving data for subject 6\n",
            "Saving data for subject 7\n",
            "Saving data for subject 8\n",
            "Saving data for subject 9\n",
            "Saving data for subject 10\n",
            "Saving data for subject 11\n",
            "Saving data for subject 12\n",
            "Saving data for subject 13\n",
            "Saving data for subject 14\n",
            "Saving data for subject 15\n",
            "Saving data for subject 16\n",
            "Saving data for subject 17\n",
            "Saving data for subject 18\n",
            "Saving data for subject 19\n",
            "Saving data for subject 20\n",
            "Saving data for subject 21\n",
            "Saving data for subject 22\n",
            "Saving data for subject 23\n"
          ]
        }
      ]
    },
    {
      "cell_type": "code",
      "source": [
        "sampling_rate = 128\n",
        "window_size = 1280\n",
        "overlap = 256\n",
        "channel_len = 14\n",
        "classes = 2\n",
        "# Chỉ số của các kênh trong thiết bị Emotiv / Ensight\n",
        "channel_indices = {\n",
        "    'AF3': 0,\n",
        "    'AF4': 13,\n",
        "    'T7': 5,\n",
        "    'T8': 10,\n",
        "    #'Pz': 6  # Giả sử kênh Pz ở vị trí thứ 6, cần kiểm tra lại chính xác\n",
        "}\n",
        "\n",
        "bands = {'delta': [0.5/(sampling_rate/2), 4/(sampling_rate/2)], 'theta': [4/(sampling_rate/2), 8/(sampling_rate/2)], \\\n",
        "         'alpha': [8/(sampling_rate/2), 14/(sampling_rate/2)], 'beta': [14/(sampling_rate/2), 30/(sampling_rate/2)], \\\n",
        "         'gamma': [30/(sampling_rate/2), 50/(sampling_rate/2)]}"
      ],
      "metadata": {
        "id": "kWhkQ-xzoMX3"
      },
      "execution_count": null,
      "outputs": []
    }
  ]
}